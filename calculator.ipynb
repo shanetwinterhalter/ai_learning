{
 "cells": [
  {
   "attachments": {},
   "cell_type": "markdown",
   "metadata": {},
   "source": [
    "# Imports"
   ]
  },
  {
   "cell_type": "code",
   "execution_count": 71,
   "metadata": {},
   "outputs": [],
   "source": [
    "import torch\n",
    "import torch.nn as nn\n",
    "from torch.nn import functional as F"
   ]
  },
  {
   "attachments": {},
   "cell_type": "markdown",
   "metadata": {},
   "source": [
    "# Constants"
   ]
  },
  {
   "cell_type": "code",
   "execution_count": 72,
   "metadata": {},
   "outputs": [],
   "source": [
    "torch.manual_seed(1337)\n",
    "training_style = \"scale\"\n",
    "if training_style == \"scale\":\n",
    "    block_size = 32\n",
    "    batch_size = 512\n",
    "    max_iters = 10000\n",
    "    eval_interval = 500\n",
    "    learning_rate = 5e-4\n",
    "    eval_iters = 200\n",
    "    n_embd = 384\n",
    "    n_layer = 6 # Number of block layers\n",
    "    n_head = 6\n",
    "    dropout = 0.2\n",
    "else:\n",
    "    block_size = 32\n",
    "    batch_size = 256\n",
    "    split_pct = 0.9\n",
    "    max_iters = 5000\n",
    "    eval_interval = 500\n",
    "    learning_rate = 1e-3\n",
    "    eval_iters = 200\n",
    "    n_embd = 64\n",
    "    n_layer = 2 # Number of block layers\n",
    "    n_head = 2\n",
    "    dropout = 0.2"
   ]
  },
  {
   "cell_type": "code",
   "execution_count": 73,
   "metadata": {},
   "outputs": [
    {
     "name": "stdout",
     "output_type": "stream",
     "text": [
      "cuda\n"
     ]
    }
   ],
   "source": [
    "# Set GPU device\n",
    "if torch.cuda.is_available():\n",
    "    device = 'cuda'\n",
    "elif torch.backends.mps.is_available():\n",
    "    device = 'mps'\n",
    "else:\n",
    "    device = 'cpu'\n",
    "print(device)"
   ]
  },
  {
   "attachments": {},
   "cell_type": "markdown",
   "metadata": {},
   "source": [
    "# Dataloader"
   ]
  },
  {
   "cell_type": "code",
   "execution_count": 74,
   "metadata": {},
   "outputs": [
    {
     "name": "stdout",
     "output_type": "stream",
     "text": [
      "Number of tokens: 16\n"
     ]
    }
   ],
   "source": [
    "chars = ['\\\\', '0', '1', '2', '3', '4', '5', '6', '7', '8', '9', '+', '-', '.', '=', 'e']\n",
    "vocab_size = len(chars)\n",
    "print(\"Number of tokens: {}\".format(vocab_size))"
   ]
  },
  {
   "cell_type": "code",
   "execution_count": 75,
   "metadata": {},
   "outputs": [],
   "source": [
    "encoder = { ch:i for i,ch in enumerate(chars) }\n",
    "decoder = { i:ch for i,ch in enumerate(chars) }\n",
    "encode = lambda s: [encoder[c] if c in chars else print (s) for c in s]\n",
    "decode = lambda l: ''.join([decoder[i] for i in l])"
   ]
  },
  {
   "cell_type": "code",
   "execution_count": 76,
   "metadata": {},
   "outputs": [],
   "source": [
    "def get_batch(batch_size):\n",
    "    numbers = torch.randint(0, 1000000, (batch_size+4, 2))\n",
    "    data = \"\"\n",
    "    ix = []\n",
    "    for idx in range(numbers.size(0) - 1):\n",
    "        eqn = \"{}+{}={}\\\\\".format(numbers[idx, 0], numbers[idx, 1], str((numbers[idx, 0]+numbers[idx, 1]).item())[::-1])\n",
    "        if idx > 2 and idx < (numbers.size()[0]):\n",
    "            ix.append(torch.randint(len(data) + eqn.index(\"=\") + 1, len(data) + len(eqn), (1,)).item())\n",
    "        data = data + eqn\n",
    "    data = torch.tensor(encode(data))\n",
    "    x = torch.stack([data[i-block_size:i] for i in ix])\n",
    "    # y here is the target - the next token for any given point in x\n",
    "    y = torch.stack([data[i-block_size+1:i+1] for i in ix])\n",
    "    x, y = x.to(device), y.to(device)\n",
    "    return x, y"
   ]
  },
  {
   "cell_type": "code",
   "execution_count": 77,
   "metadata": {},
   "outputs": [
    {
     "name": "stdout",
     "output_type": "stream",
     "text": [
      "+513753=8408501\\751015+906010=52\n",
      "513753=8408501\\751015+906010=520\n",
      "972989=4253651\\753748+689526=472\n",
      "72989=4253651\\753748+689526=4723\n",
      "0049=1377801\\994298+696814=21119\n",
      "049=1377801\\994298+696814=211196\n",
      "91227=4795311\\94533+784841=47397\n",
      "1227=4795311\\94533+784841=473978\n",
      "07+708025=234378\\468402+179764=6\n",
      "7+708025=234378\\468402+179764=66\n",
      "5+196196=107456\\650051+753387=83\n",
      "+196196=107456\\650051+753387=834\n",
      "5+997692=7548381\\383909+304666=5\n",
      "+997692=7548381\\383909+304666=57\n",
      "521210=1187111\\838628+304607=532\n",
      "21210=1187111\\838628+304607=5323\n",
      "976020=3261761\\644434+787754=881\n",
      "76020=3261761\\644434+787754=8812\n",
      "2+104747=978352\\774788+604491=97\n",
      "+104747=978352\\774788+604491=972\n",
      "470+132736=602063\\142695+738086=\n",
      "70+132736=602063\\142695+738086=1\n"
     ]
    }
   ],
   "source": [
    "x, y = get_batch(batch_size)\n",
    "for ix in range(0, len(x), 50):\n",
    "    print(decode(x[ix].tolist()))\n",
    "    print(decode(y[ix].tolist()))"
   ]
  },
  {
   "attachments": {},
   "cell_type": "markdown",
   "metadata": {},
   "source": [
    "# Model"
   ]
  },
  {
   "cell_type": "code",
   "execution_count": 78,
   "metadata": {},
   "outputs": [],
   "source": [
    "# Obtains average loss over multiple batches\n",
    "@torch.no_grad()\n",
    "def estimate_loss():\n",
    "    out = {}\n",
    "    m.eval()\n",
    "    for split in ['train', 'val']:\n",
    "        losses = torch.zeros(eval_iters)\n",
    "        for k in range(eval_iters):\n",
    "            X, T = get_batch(batch_size)\n",
    "            logits, loss = m(X, T)\n",
    "            losses[k] = loss.item()\n",
    "        out[split] = losses.mean()\n",
    "    m.train()\n",
    "    return out"
   ]
  },
  {
   "cell_type": "code",
   "execution_count": 79,
   "metadata": {},
   "outputs": [],
   "source": [
    "class MultiHeadAttention(nn.Module):\n",
    "\n",
    "    def __init__(self, num_heads):\n",
    "        super().__init__()\n",
    "        self.num_heads = num_heads\n",
    "        self.c_attn = nn.Linear(n_embd, 3 * n_embd, bias=False) # (C, 3C)\n",
    "        self.register_buffer('tril', torch.tril(torch.ones(1, 1, block_size, block_size)))\n",
    "        self.dropout1 = nn.Dropout(dropout)\n",
    "        self.proj = nn.Linear(n_embd, n_embd) # (C, C)\n",
    "        self.dropout2 = nn.Dropout(dropout)\n",
    "\n",
    "    def forward(self, x):\n",
    "        # x has shape (B,T,C) - because of initial embeddings\n",
    "        B, T, C = x.shape\n",
    "\n",
    "        q, k, v = self.c_attn(x).split(n_embd, dim=2) # (B, T, C) @ (C, 3C) --> (B, T, 3C) splits -> (B, T, C)\n",
    "        k = k.view(B, T, self.num_heads, C // self.num_heads).transpose(1,2) # (B, nh, T, hs)\n",
    "        q = q.view(B, T, self.num_heads, C // self.num_heads).transpose(1,2) # (B, nh, T, hs)\n",
    "        v = v.view(B, T, self.num_heads, C // self.num_heads).transpose(1,2) # (B, nh, T, hs)\n",
    "\n",
    "        # affinities\n",
    "        wei = q @ k.transpose(-2,-1) * k.shape[-1]**-0.5 # (B, nh, T, hs) @ (B, nh, hs, T) ---> (B,nh,T,T)\n",
    "        wei = wei.masked_fill(self.tril[:, :, :T, :T] == 0, float('-inf')) # (B, nh, T, T)\n",
    "        wei = F.softmax(wei, dim=-1) # (B, nh, T, T)\n",
    "        wei = self.dropout1(wei) # (B, nh, T, T)\n",
    "        out = wei @ v # (B, nh, T, T) @ (B, nh, T, hs) --> (B, nh, T, hs)\n",
    "        out = out.transpose(1, 2).contiguous().view(B,T,C) # (B, T, nh, hs) -> (B, T, C)\n",
    "        out = self.dropout2(self.proj(out)) # (B, T, C) @ (C, C) --> (B, T, C)\n",
    "        return out"
   ]
  },
  {
   "cell_type": "code",
   "execution_count": 80,
   "metadata": {},
   "outputs": [],
   "source": [
    "class FeedForward(nn.Module):\n",
    "\n",
    "    def __init__(self, n_embd):\n",
    "        super().__init__()\n",
    "        self.net = nn.Sequential(\n",
    "            nn.Linear(n_embd, 4 * n_embd),\n",
    "            nn.ReLU(),\n",
    "            nn.Linear(4 * n_embd, n_embd), # Projection layer\n",
    "            nn.Dropout(dropout),\n",
    "        )\n",
    "\n",
    "    def forward(self, x):\n",
    "        return self.net(x)"
   ]
  },
  {
   "cell_type": "code",
   "execution_count": 81,
   "metadata": {},
   "outputs": [],
   "source": [
    "class Block(nn.Module):\n",
    "\n",
    "    def __init__(self, n_embd, n_head):\n",
    "        # n_embd: embedding dimension, n_head: the number of heads we'd like\n",
    "        super().__init__()\n",
    "        self.sa = MultiHeadAttention(n_head)\n",
    "        self.ffwd = FeedForward(n_embd)\n",
    "        self.ln1 = nn.LayerNorm(n_embd)\n",
    "        self.ln2 = nn.LayerNorm(n_embd)\n",
    "\n",
    "    def forward(self, x):\n",
    "        x = x + self.sa(self.ln1(x))\n",
    "        x = x + self.ffwd(self.ln2(x))\n",
    "        return x"
   ]
  },
  {
   "cell_type": "code",
   "execution_count": 82,
   "metadata": {},
   "outputs": [],
   "source": [
    "class GptModel(nn.Module):\n",
    "\n",
    "    def __init__(self):\n",
    "        super().__init__()\n",
    "        self.token_embedding_table = nn.Embedding(vocab_size, n_embd)\n",
    "        self.position_embedding_table = nn.Embedding(block_size, n_embd)\n",
    "        self.blocks = nn.Sequential(*[Block(n_embd, n_head=n_head) for _ in range(n_layer)])\n",
    "        self.ln_f = nn.LayerNorm(n_embd) # Final layer norm\n",
    "        self.lm_head = nn.Linear(n_embd, vocab_size)\n",
    "\n",
    "    def forward(self, idx, targets=None):\n",
    "        B, T = idx.shape\n",
    "\n",
    "        # idx and targets are both (B,T) tensor of integers\n",
    "        tkn_emb = self.token_embedding_table(idx) # (B, T, C)\n",
    "        pos_emb = self.position_embedding_table(torch.arange(T, device=device)) # (T, C)\n",
    "        x = tkn_emb + pos_emb # (B,T,C)\n",
    "        x = self.blocks(x) # (B,T,C)\n",
    "        x = self.ln_f(x) # (B, T, C)\n",
    "        logits = self.lm_head(x) # (B, T, vocab_size)\n",
    "\n",
    "        if targets is None:\n",
    "            loss = None\n",
    "        else:\n",
    "            B, T, C = logits.shape\n",
    "            logits = logits.view(B*T, C)\n",
    "            targets = targets.view(B*T)\n",
    "            loss = F.cross_entropy(logits, targets)#, ignore_index=encode(\"\\\\\")[0])\n",
    "            \n",
    "        return logits, loss\n",
    "\n",
    "    def generate(self, idx):\n",
    "        stop_idx = encode(\"\\\\\")[0]\n",
    "        # idx is (B, T) array of indices in the current context\n",
    "        while idx[0, -1].item() != stop_idx:\n",
    "            # crop idx to last block_size tokens\n",
    "            idx_cond = idx[:, -block_size:]\n",
    "            # get predictions\n",
    "            logits, loss = self(idx_cond)\n",
    "            # focus only on last time step\n",
    "            logits = logits[:, -1, :]\n",
    "            # apply softmax to get probabilities\n",
    "            probs = F.softmax(logits, dim=-1) # )B, C)\n",
    "            # sample from distribution\n",
    "            idx_next = torch.multinomial(probs, num_samples=1) # (B, 1)\n",
    "            # append sampled index to the running sequence\n",
    "            idx = torch.cat((idx, idx_next), dim=1) # (B, T+1)\n",
    "        return idx"
   ]
  },
  {
   "cell_type": "code",
   "execution_count": 83,
   "metadata": {},
   "outputs": [
    {
     "data": {
      "text/plain": [
       "GptModel(\n",
       "  (token_embedding_table): Embedding(16, 384)\n",
       "  (position_embedding_table): Embedding(32, 384)\n",
       "  (blocks): Sequential(\n",
       "    (0): Block(\n",
       "      (sa): MultiHeadAttention(\n",
       "        (c_attn): Linear(in_features=384, out_features=1152, bias=False)\n",
       "        (dropout1): Dropout(p=0.2, inplace=False)\n",
       "        (proj): Linear(in_features=384, out_features=384, bias=True)\n",
       "        (dropout2): Dropout(p=0.2, inplace=False)\n",
       "      )\n",
       "      (ffwd): FeedForward(\n",
       "        (net): Sequential(\n",
       "          (0): Linear(in_features=384, out_features=1536, bias=True)\n",
       "          (1): ReLU()\n",
       "          (2): Linear(in_features=1536, out_features=384, bias=True)\n",
       "          (3): Dropout(p=0.2, inplace=False)\n",
       "        )\n",
       "      )\n",
       "      (ln1): LayerNorm((384,), eps=1e-05, elementwise_affine=True)\n",
       "      (ln2): LayerNorm((384,), eps=1e-05, elementwise_affine=True)\n",
       "    )\n",
       "    (1): Block(\n",
       "      (sa): MultiHeadAttention(\n",
       "        (c_attn): Linear(in_features=384, out_features=1152, bias=False)\n",
       "        (dropout1): Dropout(p=0.2, inplace=False)\n",
       "        (proj): Linear(in_features=384, out_features=384, bias=True)\n",
       "        (dropout2): Dropout(p=0.2, inplace=False)\n",
       "      )\n",
       "      (ffwd): FeedForward(\n",
       "        (net): Sequential(\n",
       "          (0): Linear(in_features=384, out_features=1536, bias=True)\n",
       "          (1): ReLU()\n",
       "          (2): Linear(in_features=1536, out_features=384, bias=True)\n",
       "          (3): Dropout(p=0.2, inplace=False)\n",
       "        )\n",
       "      )\n",
       "      (ln1): LayerNorm((384,), eps=1e-05, elementwise_affine=True)\n",
       "      (ln2): LayerNorm((384,), eps=1e-05, elementwise_affine=True)\n",
       "    )\n",
       "    (2): Block(\n",
       "      (sa): MultiHeadAttention(\n",
       "        (c_attn): Linear(in_features=384, out_features=1152, bias=False)\n",
       "        (dropout1): Dropout(p=0.2, inplace=False)\n",
       "        (proj): Linear(in_features=384, out_features=384, bias=True)\n",
       "        (dropout2): Dropout(p=0.2, inplace=False)\n",
       "      )\n",
       "      (ffwd): FeedForward(\n",
       "        (net): Sequential(\n",
       "          (0): Linear(in_features=384, out_features=1536, bias=True)\n",
       "          (1): ReLU()\n",
       "          (2): Linear(in_features=1536, out_features=384, bias=True)\n",
       "          (3): Dropout(p=0.2, inplace=False)\n",
       "        )\n",
       "      )\n",
       "      (ln1): LayerNorm((384,), eps=1e-05, elementwise_affine=True)\n",
       "      (ln2): LayerNorm((384,), eps=1e-05, elementwise_affine=True)\n",
       "    )\n",
       "    (3): Block(\n",
       "      (sa): MultiHeadAttention(\n",
       "        (c_attn): Linear(in_features=384, out_features=1152, bias=False)\n",
       "        (dropout1): Dropout(p=0.2, inplace=False)\n",
       "        (proj): Linear(in_features=384, out_features=384, bias=True)\n",
       "        (dropout2): Dropout(p=0.2, inplace=False)\n",
       "      )\n",
       "      (ffwd): FeedForward(\n",
       "        (net): Sequential(\n",
       "          (0): Linear(in_features=384, out_features=1536, bias=True)\n",
       "          (1): ReLU()\n",
       "          (2): Linear(in_features=1536, out_features=384, bias=True)\n",
       "          (3): Dropout(p=0.2, inplace=False)\n",
       "        )\n",
       "      )\n",
       "      (ln1): LayerNorm((384,), eps=1e-05, elementwise_affine=True)\n",
       "      (ln2): LayerNorm((384,), eps=1e-05, elementwise_affine=True)\n",
       "    )\n",
       "    (4): Block(\n",
       "      (sa): MultiHeadAttention(\n",
       "        (c_attn): Linear(in_features=384, out_features=1152, bias=False)\n",
       "        (dropout1): Dropout(p=0.2, inplace=False)\n",
       "        (proj): Linear(in_features=384, out_features=384, bias=True)\n",
       "        (dropout2): Dropout(p=0.2, inplace=False)\n",
       "      )\n",
       "      (ffwd): FeedForward(\n",
       "        (net): Sequential(\n",
       "          (0): Linear(in_features=384, out_features=1536, bias=True)\n",
       "          (1): ReLU()\n",
       "          (2): Linear(in_features=1536, out_features=384, bias=True)\n",
       "          (3): Dropout(p=0.2, inplace=False)\n",
       "        )\n",
       "      )\n",
       "      (ln1): LayerNorm((384,), eps=1e-05, elementwise_affine=True)\n",
       "      (ln2): LayerNorm((384,), eps=1e-05, elementwise_affine=True)\n",
       "    )\n",
       "    (5): Block(\n",
       "      (sa): MultiHeadAttention(\n",
       "        (c_attn): Linear(in_features=384, out_features=1152, bias=False)\n",
       "        (dropout1): Dropout(p=0.2, inplace=False)\n",
       "        (proj): Linear(in_features=384, out_features=384, bias=True)\n",
       "        (dropout2): Dropout(p=0.2, inplace=False)\n",
       "      )\n",
       "      (ffwd): FeedForward(\n",
       "        (net): Sequential(\n",
       "          (0): Linear(in_features=384, out_features=1536, bias=True)\n",
       "          (1): ReLU()\n",
       "          (2): Linear(in_features=1536, out_features=384, bias=True)\n",
       "          (3): Dropout(p=0.2, inplace=False)\n",
       "        )\n",
       "      )\n",
       "      (ln1): LayerNorm((384,), eps=1e-05, elementwise_affine=True)\n",
       "      (ln2): LayerNorm((384,), eps=1e-05, elementwise_affine=True)\n",
       "    )\n",
       "  )\n",
       "  (ln_f): LayerNorm((384,), eps=1e-05, elementwise_affine=True)\n",
       "  (lm_head): Linear(in_features=384, out_features=16, bias=True)\n",
       ")"
      ]
     },
     "execution_count": 83,
     "metadata": {},
     "output_type": "execute_result"
    }
   ],
   "source": [
    "m = GptModel()\n",
    "m.to(device)"
   ]
  },
  {
   "cell_type": "code",
   "execution_count": 84,
   "metadata": {},
   "outputs": [
    {
     "name": "stdout",
     "output_type": "stream",
     "text": [
      "10.665232 M parameters\n"
     ]
    }
   ],
   "source": [
    "# Number of parameters in model\n",
    "print(sum(p.numel() for p in m.parameters())/1e6, 'M parameters')"
   ]
  },
  {
   "attachments": {},
   "cell_type": "markdown",
   "metadata": {},
   "source": [
    "# Training"
   ]
  },
  {
   "cell_type": "code",
   "execution_count": 85,
   "metadata": {},
   "outputs": [],
   "source": [
    "optimizer = torch.optim.AdamW(m.parameters(), lr=learning_rate)"
   ]
  },
  {
   "cell_type": "code",
   "execution_count": 86,
   "metadata": {},
   "outputs": [
    {
     "name": "stdout",
     "output_type": "stream",
     "text": [
      "step 0: train loss 2.8980, val loss 2.8980\n",
      "step 500: train loss 2.0173, val loss 2.0169\n",
      "step 1000: train loss 2.0147, val loss 2.0148\n",
      "step 1500: train loss 2.0126, val loss 2.0120\n",
      "step 2000: train loss 2.0100, val loss 2.0105\n",
      "step 2500: train loss 1.9240, val loss 1.9238\n",
      "step 3000: train loss 1.8368, val loss 1.8377\n",
      "step 3500: train loss 1.8220, val loss 1.8227\n",
      "step 4000: train loss 1.8135, val loss 1.8136\n",
      "step 4500: train loss 1.8134, val loss 1.8134\n",
      "step 5000: train loss 1.8127, val loss 1.8128\n",
      "step 5500: train loss 1.8076, val loss 1.8070\n",
      "step 6000: train loss 1.7683, val loss 1.7692\n",
      "step 6500: train loss 1.7384, val loss 1.7378\n",
      "step 7000: train loss 1.7124, val loss 1.7122\n",
      "step 7500: train loss 1.7117, val loss 1.7120\n",
      "step 8000: train loss 1.7022, val loss 1.7027\n",
      "step 8500: train loss 1.6954, val loss 1.6955\n",
      "step 9000: train loss 1.6940, val loss 1.6935\n",
      "step 9500: train loss 1.6799, val loss 1.6795\n",
      "step 9999: train loss 1.6787, val loss 1.6784\n"
     ]
    }
   ],
   "source": [
    "for iter in range(max_iters):\n",
    "    if iter % eval_interval == 0 or iter == max_iters - 1:\n",
    "        losses = estimate_loss()\n",
    "        print(f\"step {iter}: train loss {losses['train']:.4f}, val loss {losses['val']:.4f}\")\n",
    "\n",
    "    xb, yb = get_batch(batch_size)\n",
    "    \n",
    "    logits, loss = m(xb, yb)\n",
    "    optimizer.zero_grad(set_to_none=True)\n",
    "    loss.backward()\n",
    "    optimizer.step()"
   ]
  },
  {
   "attachments": {},
   "cell_type": "markdown",
   "metadata": {},
   "source": [
    "# Inference"
   ]
  },
  {
   "cell_type": "code",
   "execution_count": 147,
   "metadata": {},
   "outputs": [
    {
     "name": "stdout",
     "output_type": "stream",
     "text": [
      "Equation: 164533+410386=\n",
      "Prediction: 574919\n",
      "Result: 574919\n"
     ]
    }
   ],
   "source": [
    "numbers = torch.randint(0, 1000000, (10, 2))\n",
    "data = encode(\"\\\\\".join([\"{}+{}={}\".format(numbers[ix, 0], numbers[ix, 1], numbers[ix, 0] + numbers[ix, 1]) for ix in range(10)]))\n",
    "eqn = torch.randint(0, 1000000, (1, 2))\n",
    "val1 = eqn[0, 0].item()\n",
    "val2 = eqn[0, 1].item()\n",
    "data = data + encode(\"\\\\{}+{}=\".format(val1, val2))\n",
    "data = torch.tensor(data).unsqueeze(0).to(device)\n",
    "output = decode(m.generate(data[:, -block_size:])[0].tolist())\n",
    "print(\"Equation: {}\".format(output[output.rindex(\"\\\\\", 0, -2)+1:output.rindex(\"=\")+1]))\n",
    "print(\"Prediction: {}\".format(output[output.rindex(\"=\")+1:-1][::-1]))\n",
    "print(\"Result: {}\".format(val1 + val2))"
   ]
  },
  {
   "attachments": {},
   "cell_type": "markdown",
   "metadata": {},
   "source": [
    "# Save the model"
   ]
  },
  {
   "cell_type": "code",
   "execution_count": 88,
   "metadata": {},
   "outputs": [],
   "source": [
    "#import time\n",
    "#torch.save(m.state_dict(), './models/addition_calculator_{}.pt'.format(time.strftime(\"%Y-%m-%d-%H:%M\")))"
   ]
  }
 ],
 "metadata": {
  "kernelspec": {
   "display_name": "venv",
   "language": "python",
   "name": "python3"
  },
  "language_info": {
   "codemirror_mode": {
    "name": "ipython",
    "version": 3
   },
   "file_extension": ".py",
   "mimetype": "text/x-python",
   "name": "python",
   "nbconvert_exporter": "python",
   "pygments_lexer": "ipython3",
   "version": "3.10.6"
  },
  "orig_nbformat": 4,
  "vscode": {
   "interpreter": {
    "hash": "6a3748bdc53d2b264f1d590005ea209faf75446dd8b8076c51e6e8ce42172850"
   }
  }
 },
 "nbformat": 4,
 "nbformat_minor": 2
}
