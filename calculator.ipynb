{
 "cells": [
  {
   "attachments": {},
   "cell_type": "markdown",
   "metadata": {},
   "source": [
    "# Imports"
   ]
  },
  {
   "cell_type": "code",
   "execution_count": 1,
   "metadata": {},
   "outputs": [],
   "source": [
    "import torch\n",
    "import torch.nn as nn\n",
    "from torch.nn import functional as F"
   ]
  },
  {
   "attachments": {},
   "cell_type": "markdown",
   "metadata": {},
   "source": [
    "# Constants"
   ]
  },
  {
   "cell_type": "code",
   "execution_count": 2,
   "metadata": {},
   "outputs": [],
   "source": [
    "torch.manual_seed(1337)\n",
    "training_style = \"scale\"\n",
    "stop_token = \";\"\n",
    "if training_style == \"scale\":\n",
    "    block_size = 64\n",
    "    batch_size = 512\n",
    "    max_iters = 10000\n",
    "    eval_interval = 500\n",
    "    learning_rate = 5e-4\n",
    "    eval_iters = 200\n",
    "    n_embd = 384\n",
    "    n_layer = 6 # Number of block layers\n",
    "    n_head = 6\n",
    "    dropout = 0.2\n",
    "else:\n",
    "    block_size = 64\n",
    "    batch_size = 256\n",
    "    split_pct = 0.9\n",
    "    max_iters = 5000\n",
    "    eval_interval = 500\n",
    "    learning_rate = 1e-3\n",
    "    eval_iters = 200\n",
    "    n_embd = 64\n",
    "    n_layer = 2 # Number of block layers\n",
    "    n_head = 2\n",
    "    dropout = 0.2"
   ]
  },
  {
   "cell_type": "code",
   "execution_count": 3,
   "metadata": {},
   "outputs": [
    {
     "name": "stdout",
     "output_type": "stream",
     "text": [
      "cuda\n"
     ]
    }
   ],
   "source": [
    "# Set GPU device\n",
    "if torch.cuda.is_available():\n",
    "    device = 'cuda'\n",
    "elif torch.backends.mps.is_available():\n",
    "    device = 'mps'\n",
    "else:\n",
    "    device = 'cpu'\n",
    "print(device)"
   ]
  },
  {
   "attachments": {},
   "cell_type": "markdown",
   "metadata": {},
   "source": [
    "# Dataloader"
   ]
  },
  {
   "cell_type": "code",
   "execution_count": 4,
   "metadata": {},
   "outputs": [
    {
     "name": "stdout",
     "output_type": "stream",
     "text": [
      "Number of tokens: 21\n"
     ]
    }
   ],
   "source": [
    "chars = [';', '0', '1', '2', '3', '4', '5', '6', '7', '8', '9', '+', '-', '.', '*', '/', '=', 'e', 'i', 'n', 'f']\n",
    "vocab_size = len(chars)\n",
    "print(\"Number of tokens: {}\".format(vocab_size))"
   ]
  },
  {
   "cell_type": "code",
   "execution_count": 5,
   "metadata": {},
   "outputs": [],
   "source": [
    "encoder = { ch:i for i,ch in enumerate(chars) }\n",
    "decoder = { i:ch for i,ch in enumerate(chars) }\n",
    "encode = lambda s: [encoder[c] if c in chars else print (s) for c in s]\n",
    "decode = lambda l: ''.join([decoder[i] for i in l])"
   ]
  },
  {
   "cell_type": "code",
   "execution_count": 6,
   "metadata": {},
   "outputs": [],
   "source": [
    "def generate_eqn(val1, val2, split_ans=False):\n",
    "    # Randomly generate operation\n",
    "    op_idx = torch.randint(0, 4, (1,))\n",
    "    if op_idx == 0:\n",
    "        op = \"+\"\n",
    "        result = val1 + val2\n",
    "    elif op_idx == 1:\n",
    "        op = \"-\"\n",
    "        result = val1 - val2\n",
    "    elif op_idx == 2:\n",
    "        op = \"*\"\n",
    "        result = val1 * val2\n",
    "    elif op_idx == 3:\n",
    "        op = \"/\"\n",
    "        result = val1 / val2\n",
    "    if not split_ans:\n",
    "        return \"{}{}{}={}{}\".format(val1, op, val2, result, stop_token)\n",
    "    else:\n",
    "        return \"{}{}{}=\".format(val1, op, val2), result\n",
    "\n",
    "def get_batch(batch_size):\n",
    "    numbers = torch.randint(-1000000, 1000000, (batch_size+4, 2))\n",
    "    data = \"\"\n",
    "    ix = []\n",
    "    for idx in range(numbers.size(0) - 1):\n",
    "        eqn = generate_eqn(numbers[idx, 0], numbers[idx, 1])\n",
    "        if idx > 2 and idx < (numbers.size()[0]):\n",
    "            ix.append(torch.randint(len(data) + eqn.index(\"=\") + 1, len(data) + len(eqn), (1,)).item())\n",
    "        data = data + eqn\n",
    "    data = torch.tensor(encode(data))\n",
    "    x = torch.stack([data[i-block_size:i] for i in ix])\n",
    "    # y here is the target - the next token for any given point in x\n",
    "    y = torch.stack([data[i-block_size+1:i+1] for i in ix])\n",
    "    x, y = x.to(device), y.to(device)\n",
    "    return x, y"
   ]
  },
  {
   "cell_type": "code",
   "execution_count": 7,
   "metadata": {},
   "outputs": [
    {
     "name": "stdout",
     "output_type": "stream",
     "text": [
      "2-57000=485492;-455705*-486247=221585189135;-248985+906010=65702\n",
      "-57000=485492;-455705*-486247=221585189135;-248985+906010=657025\n",
      "97+-539844=-590441;-409465+-27011=-436476;753748--310474=1064222\n",
      "7+-539844=-590441;-409465+-27011=-436476;753748--310474=1064222;\n",
      "1=-38748029753;-652318/740049=-0.8814524412155151;-5702+-303186=\n",
      "=-38748029753;-652318/740049=-0.8814524412155151;-5702+-303186=-\n",
      "246094;-655253/-208773=3.1385908126831055;-905467+-215159=-11206\n",
      "46094;-655253/-208773=3.1385908126831055;-905467+-215159=-112062\n",
      "3808653354644775;-834593*-291975=243680291175;-531598-179764=-71\n",
      "808653354644775;-834593*-291975=243680291175;-531598-179764=-711\n",
      ";-726613--459583=-267030;458505+-803804=-345299;650051-753387=-1\n",
      "-726613--459583=-267030;458505+-803804=-345299;650051-753387=-10\n",
      "36549=-1.1241774559020996;-159235+-2308=-161543;-616091+-695334=\n",
      "6549=-1.1241774559020996;-159235+-2308=-161543;-616091+-695334=-\n",
      "3=1.9169648885726929;596601-521210=75391;-161372+-695393=-856765\n",
      "=1.9169648885726929;596601-521210=75391;-161372+-695393=-856765;\n",
      "9=-4.555607795715332;695603+976020=1671623;644434-787754=-143320\n",
      "=-4.555607795715332;695603+976020=1671623;644434-787754=-143320;\n",
      "6974029541;149132*104747=15621129604;-225212/-395509=0.569423198\n",
      "974029541;149132*104747=15621129604;-225212/-395509=0.5694231986\n",
      "*-819630=381105819990;-772530-132736=-905266;142695+-261914=-119\n",
      "-819630=381105819990;-772530-132736=-905266;142695+-261914=-1192\n"
     ]
    }
   ],
   "source": [
    "x, y = get_batch(batch_size)\n",
    "for ix in range(0, len(x), 50):\n",
    "    print(decode(x[ix].tolist()))\n",
    "    print(decode(y[ix].tolist()))"
   ]
  },
  {
   "attachments": {},
   "cell_type": "markdown",
   "metadata": {},
   "source": [
    "# Model"
   ]
  },
  {
   "cell_type": "code",
   "execution_count": 8,
   "metadata": {},
   "outputs": [],
   "source": [
    "# Obtains average loss over multiple batches\n",
    "@torch.no_grad()\n",
    "def estimate_loss():\n",
    "    out = {}\n",
    "    m.eval()\n",
    "    for split in ['train', 'val']:\n",
    "        losses = torch.zeros(eval_iters)\n",
    "        for k in range(eval_iters):\n",
    "            X, T = get_batch(batch_size)\n",
    "            logits, loss = m(X, T)\n",
    "            losses[k] = loss.item()\n",
    "        out[split] = losses.mean()\n",
    "    m.train()\n",
    "    return out"
   ]
  },
  {
   "cell_type": "code",
   "execution_count": 9,
   "metadata": {},
   "outputs": [],
   "source": [
    "class MultiHeadAttention(nn.Module):\n",
    "\n",
    "    def __init__(self, num_heads):\n",
    "        super().__init__()\n",
    "        self.num_heads = num_heads\n",
    "        self.c_attn = nn.Linear(n_embd, 3 * n_embd, bias=False) # (C, 3C)\n",
    "        self.register_buffer('tril', torch.tril(torch.ones(1, 1, block_size, block_size)))\n",
    "        self.dropout1 = nn.Dropout(dropout)\n",
    "        self.proj = nn.Linear(n_embd, n_embd) # (C, C)\n",
    "        self.dropout2 = nn.Dropout(dropout)\n",
    "\n",
    "    def forward(self, x):\n",
    "        # x has shape (B,T,C) - because of initial embeddings\n",
    "        B, T, C = x.shape\n",
    "\n",
    "        q, k, v = self.c_attn(x).split(n_embd, dim=2) # (B, T, C) @ (C, 3C) --> (B, T, 3C) splits -> (B, T, C)\n",
    "        k = k.view(B, T, self.num_heads, C // self.num_heads).transpose(1,2) # (B, nh, T, hs)\n",
    "        q = q.view(B, T, self.num_heads, C // self.num_heads).transpose(1,2) # (B, nh, T, hs)\n",
    "        v = v.view(B, T, self.num_heads, C // self.num_heads).transpose(1,2) # (B, nh, T, hs)\n",
    "\n",
    "        # affinities\n",
    "        wei = q @ k.transpose(-2,-1) * k.shape[-1]**-0.5 # (B, nh, T, hs) @ (B, nh, hs, T) ---> (B,nh,T,T)\n",
    "        wei = wei.masked_fill(self.tril[:, :, :T, :T] == 0, float('-inf')) # (B, nh, T, T)\n",
    "        wei = F.softmax(wei, dim=-1) # (B, nh, T, T)\n",
    "        wei = self.dropout1(wei) # (B, nh, T, T)\n",
    "        out = wei @ v # (B, nh, T, T) @ (B, nh, T, hs) --> (B, nh, T, hs)\n",
    "        out = out.transpose(1, 2).contiguous().view(B,T,C) # (B, T, nh, hs) -> (B, T, C)\n",
    "        out = self.dropout2(self.proj(out)) # (B, T, C) @ (C, C) --> (B, T, C)\n",
    "        return out"
   ]
  },
  {
   "cell_type": "code",
   "execution_count": 10,
   "metadata": {},
   "outputs": [],
   "source": [
    "class FeedForward(nn.Module):\n",
    "\n",
    "    def __init__(self, n_embd):\n",
    "        super().__init__()\n",
    "        self.net = nn.Sequential(\n",
    "            nn.Linear(n_embd, 4 * n_embd),\n",
    "            nn.ReLU(),\n",
    "            nn.Linear(4 * n_embd, n_embd), # Projection layer\n",
    "            nn.Dropout(dropout),\n",
    "        )\n",
    "\n",
    "    def forward(self, x):\n",
    "        return self.net(x)"
   ]
  },
  {
   "cell_type": "code",
   "execution_count": 11,
   "metadata": {},
   "outputs": [],
   "source": [
    "class Block(nn.Module):\n",
    "\n",
    "    def __init__(self, n_embd, n_head):\n",
    "        # n_embd: embedding dimension, n_head: the number of heads we'd like\n",
    "        super().__init__()\n",
    "        self.sa = MultiHeadAttention(n_head)\n",
    "        self.ffwd = FeedForward(n_embd)\n",
    "        self.ln1 = nn.LayerNorm(n_embd)\n",
    "        self.ln2 = nn.LayerNorm(n_embd)\n",
    "\n",
    "    def forward(self, x):\n",
    "        x = x + self.sa(self.ln1(x))\n",
    "        x = x + self.ffwd(self.ln2(x))\n",
    "        return x"
   ]
  },
  {
   "cell_type": "code",
   "execution_count": 12,
   "metadata": {},
   "outputs": [],
   "source": [
    "class GptModel(nn.Module):\n",
    "\n",
    "    def __init__(self):\n",
    "        super().__init__()\n",
    "        self.token_embedding_table = nn.Embedding(vocab_size, n_embd)\n",
    "        self.position_embedding_table = nn.Embedding(block_size, n_embd)\n",
    "        self.blocks = nn.Sequential(*[Block(n_embd, n_head=n_head) for _ in range(n_layer)])\n",
    "        self.ln_f = nn.LayerNorm(n_embd) # Final layer norm\n",
    "        self.lm_head = nn.Linear(n_embd, vocab_size)\n",
    "\n",
    "    def forward(self, idx, targets=None):\n",
    "        B, T = idx.shape\n",
    "\n",
    "        # idx and targets are both (B,T) tensor of integers\n",
    "        tkn_emb = self.token_embedding_table(idx) # (B, T, C)\n",
    "        pos_emb = self.position_embedding_table(torch.arange(T, device=device)) # (T, C)\n",
    "        x = tkn_emb + pos_emb # (B,T,C)\n",
    "        x = self.blocks(x) # (B,T,C)\n",
    "        x = self.ln_f(x) # (B, T, C)\n",
    "        logits = self.lm_head(x) # (B, T, vocab_size)\n",
    "\n",
    "        if targets is None:\n",
    "            loss = None\n",
    "        else:\n",
    "            B, T, C = logits.shape\n",
    "            logits = logits.view(B*T, C)\n",
    "            targets = targets.view(B*T)\n",
    "            loss = F.cross_entropy(logits, targets)#, ignore_index=encode(\"\\\\\")[0])\n",
    "            \n",
    "        return logits, loss\n",
    "\n",
    "    def generate(self, idx):\n",
    "        stop_idx = encode(stop_token)[0]\n",
    "        # idx is (B, T) array of indices in the current context\n",
    "        while idx[0, -1].item() != stop_idx:\n",
    "            # crop idx to last block_size tokens\n",
    "            idx_cond = idx[:, -block_size:]\n",
    "            # get predictions\n",
    "            logits, loss = self(idx_cond)\n",
    "            # focus only on last time step\n",
    "            logits = logits[:, -1, :]\n",
    "            # apply softmax to get probabilities\n",
    "            probs = F.softmax(logits, dim=-1) # (B, C)\n",
    "            # sample from distribution\n",
    "            idx_next = torch.argmax(probs, keepdim=True) # (B, 1)\n",
    "            # append sampled index to the running sequence\n",
    "            idx = torch.cat((idx, idx_next), dim=1) # (B, T+1)\n",
    "        return idx"
   ]
  },
  {
   "cell_type": "code",
   "execution_count": 13,
   "metadata": {},
   "outputs": [
    {
     "data": {
      "text/plain": [
       "GptModel(\n",
       "  (token_embedding_table): Embedding(21, 384)\n",
       "  (position_embedding_table): Embedding(64, 384)\n",
       "  (blocks): Sequential(\n",
       "    (0): Block(\n",
       "      (sa): MultiHeadAttention(\n",
       "        (c_attn): Linear(in_features=384, out_features=1152, bias=False)\n",
       "        (dropout1): Dropout(p=0.2, inplace=False)\n",
       "        (proj): Linear(in_features=384, out_features=384, bias=True)\n",
       "        (dropout2): Dropout(p=0.2, inplace=False)\n",
       "      )\n",
       "      (ffwd): FeedForward(\n",
       "        (net): Sequential(\n",
       "          (0): Linear(in_features=384, out_features=1536, bias=True)\n",
       "          (1): ReLU()\n",
       "          (2): Linear(in_features=1536, out_features=384, bias=True)\n",
       "          (3): Dropout(p=0.2, inplace=False)\n",
       "        )\n",
       "      )\n",
       "      (ln1): LayerNorm((384,), eps=1e-05, elementwise_affine=True)\n",
       "      (ln2): LayerNorm((384,), eps=1e-05, elementwise_affine=True)\n",
       "    )\n",
       "    (1): Block(\n",
       "      (sa): MultiHeadAttention(\n",
       "        (c_attn): Linear(in_features=384, out_features=1152, bias=False)\n",
       "        (dropout1): Dropout(p=0.2, inplace=False)\n",
       "        (proj): Linear(in_features=384, out_features=384, bias=True)\n",
       "        (dropout2): Dropout(p=0.2, inplace=False)\n",
       "      )\n",
       "      (ffwd): FeedForward(\n",
       "        (net): Sequential(\n",
       "          (0): Linear(in_features=384, out_features=1536, bias=True)\n",
       "          (1): ReLU()\n",
       "          (2): Linear(in_features=1536, out_features=384, bias=True)\n",
       "          (3): Dropout(p=0.2, inplace=False)\n",
       "        )\n",
       "      )\n",
       "      (ln1): LayerNorm((384,), eps=1e-05, elementwise_affine=True)\n",
       "      (ln2): LayerNorm((384,), eps=1e-05, elementwise_affine=True)\n",
       "    )\n",
       "    (2): Block(\n",
       "      (sa): MultiHeadAttention(\n",
       "        (c_attn): Linear(in_features=384, out_features=1152, bias=False)\n",
       "        (dropout1): Dropout(p=0.2, inplace=False)\n",
       "        (proj): Linear(in_features=384, out_features=384, bias=True)\n",
       "        (dropout2): Dropout(p=0.2, inplace=False)\n",
       "      )\n",
       "      (ffwd): FeedForward(\n",
       "        (net): Sequential(\n",
       "          (0): Linear(in_features=384, out_features=1536, bias=True)\n",
       "          (1): ReLU()\n",
       "          (2): Linear(in_features=1536, out_features=384, bias=True)\n",
       "          (3): Dropout(p=0.2, inplace=False)\n",
       "        )\n",
       "      )\n",
       "      (ln1): LayerNorm((384,), eps=1e-05, elementwise_affine=True)\n",
       "      (ln2): LayerNorm((384,), eps=1e-05, elementwise_affine=True)\n",
       "    )\n",
       "    (3): Block(\n",
       "      (sa): MultiHeadAttention(\n",
       "        (c_attn): Linear(in_features=384, out_features=1152, bias=False)\n",
       "        (dropout1): Dropout(p=0.2, inplace=False)\n",
       "        (proj): Linear(in_features=384, out_features=384, bias=True)\n",
       "        (dropout2): Dropout(p=0.2, inplace=False)\n",
       "      )\n",
       "      (ffwd): FeedForward(\n",
       "        (net): Sequential(\n",
       "          (0): Linear(in_features=384, out_features=1536, bias=True)\n",
       "          (1): ReLU()\n",
       "          (2): Linear(in_features=1536, out_features=384, bias=True)\n",
       "          (3): Dropout(p=0.2, inplace=False)\n",
       "        )\n",
       "      )\n",
       "      (ln1): LayerNorm((384,), eps=1e-05, elementwise_affine=True)\n",
       "      (ln2): LayerNorm((384,), eps=1e-05, elementwise_affine=True)\n",
       "    )\n",
       "    (4): Block(\n",
       "      (sa): MultiHeadAttention(\n",
       "        (c_attn): Linear(in_features=384, out_features=1152, bias=False)\n",
       "        (dropout1): Dropout(p=0.2, inplace=False)\n",
       "        (proj): Linear(in_features=384, out_features=384, bias=True)\n",
       "        (dropout2): Dropout(p=0.2, inplace=False)\n",
       "      )\n",
       "      (ffwd): FeedForward(\n",
       "        (net): Sequential(\n",
       "          (0): Linear(in_features=384, out_features=1536, bias=True)\n",
       "          (1): ReLU()\n",
       "          (2): Linear(in_features=1536, out_features=384, bias=True)\n",
       "          (3): Dropout(p=0.2, inplace=False)\n",
       "        )\n",
       "      )\n",
       "      (ln1): LayerNorm((384,), eps=1e-05, elementwise_affine=True)\n",
       "      (ln2): LayerNorm((384,), eps=1e-05, elementwise_affine=True)\n",
       "    )\n",
       "    (5): Block(\n",
       "      (sa): MultiHeadAttention(\n",
       "        (c_attn): Linear(in_features=384, out_features=1152, bias=False)\n",
       "        (dropout1): Dropout(p=0.2, inplace=False)\n",
       "        (proj): Linear(in_features=384, out_features=384, bias=True)\n",
       "        (dropout2): Dropout(p=0.2, inplace=False)\n",
       "      )\n",
       "      (ffwd): FeedForward(\n",
       "        (net): Sequential(\n",
       "          (0): Linear(in_features=384, out_features=1536, bias=True)\n",
       "          (1): ReLU()\n",
       "          (2): Linear(in_features=1536, out_features=384, bias=True)\n",
       "          (3): Dropout(p=0.2, inplace=False)\n",
       "        )\n",
       "      )\n",
       "      (ln1): LayerNorm((384,), eps=1e-05, elementwise_affine=True)\n",
       "      (ln2): LayerNorm((384,), eps=1e-05, elementwise_affine=True)\n",
       "    )\n",
       "  )\n",
       "  (ln_f): LayerNorm((384,), eps=1e-05, elementwise_affine=True)\n",
       "  (lm_head): Linear(in_features=384, out_features=21, bias=True)\n",
       ")"
      ]
     },
     "execution_count": 13,
     "metadata": {},
     "output_type": "execute_result"
    }
   ],
   "source": [
    "m = GptModel()\n",
    "m.to(device)"
   ]
  },
  {
   "cell_type": "code",
   "execution_count": 14,
   "metadata": {},
   "outputs": [
    {
     "name": "stdout",
     "output_type": "stream",
     "text": [
      "10.681365 M parameters\n"
     ]
    }
   ],
   "source": [
    "# Number of parameters in model\n",
    "print(sum(p.numel() for p in m.parameters())/1e6, 'M parameters')"
   ]
  },
  {
   "attachments": {},
   "cell_type": "markdown",
   "metadata": {},
   "source": [
    "# Training"
   ]
  },
  {
   "cell_type": "code",
   "execution_count": 15,
   "metadata": {},
   "outputs": [],
   "source": [
    "optimizer = torch.optim.AdamW(m.parameters(), lr=learning_rate)"
   ]
  },
  {
   "cell_type": "code",
   "execution_count": 16,
   "metadata": {},
   "outputs": [
    {
     "name": "stdout",
     "output_type": "stream",
     "text": [
      "step 0: train loss 3.1138, val loss 3.1137\n",
      "step 500: train loss 2.0597, val loss 2.0595\n",
      "step 1000: train loss 2.0137, val loss 2.0139\n",
      "step 1500: train loss 1.9839, val loss 1.9843\n",
      "step 2000: train loss 1.9639, val loss 1.9637\n",
      "step 2500: train loss 1.9506, val loss 1.9506\n",
      "step 3000: train loss 1.9320, val loss 1.9321\n",
      "step 3500: train loss 1.9242, val loss 1.9246\n",
      "step 4000: train loss 1.9073, val loss 1.9078\n",
      "step 4500: train loss 1.8992, val loss 1.8995\n",
      "step 5000: train loss 1.8927, val loss 1.8930\n",
      "step 5500: train loss 1.8899, val loss 1.8893\n",
      "step 6000: train loss 1.8878, val loss 1.8877\n",
      "step 6500: train loss 1.8860, val loss 1.8859\n",
      "step 7000: train loss 1.8829, val loss 1.8830\n",
      "step 7500: train loss 1.8800, val loss 1.8792\n",
      "step 8000: train loss 1.8821, val loss 1.8816\n",
      "step 8500: train loss 1.8807, val loss 1.8801\n",
      "step 9000: train loss 1.8746, val loss 1.8748\n",
      "step 9500: train loss 1.8732, val loss 1.8727\n",
      "step 9999: train loss 1.8728, val loss 1.8734\n"
     ]
    }
   ],
   "source": [
    "for iter in range(max_iters):\n",
    "    if iter % eval_interval == 0 or iter == max_iters - 1:\n",
    "        losses = estimate_loss()\n",
    "        print(f\"step {iter}: train loss {losses['train']:.4f}, val loss {losses['val']:.4f}\")\n",
    "\n",
    "    xb, yb = get_batch(batch_size)\n",
    "    \n",
    "    logits, loss = m(xb, yb)\n",
    "    optimizer.zero_grad(set_to_none=True)\n",
    "    loss.backward()\n",
    "    optimizer.step()"
   ]
  },
  {
   "attachments": {},
   "cell_type": "markdown",
   "metadata": {},
   "source": [
    "# Inference"
   ]
  },
  {
   "cell_type": "code",
   "execution_count": 31,
   "metadata": {},
   "outputs": [],
   "source": [
    "def generate_context():\n",
    "    # Randomly generate some context as starting point\n",
    "    numbers = torch.randint(-1000000, 1000000, (10, 2))\n",
    "    data = encode(stop_token.join([generate_eqn(numbers[ix, 0], numbers[ix, 1]) for ix in range(10)]))\n",
    "    return data"
   ]
  },
  {
   "cell_type": "code",
   "execution_count": 32,
   "metadata": {},
   "outputs": [],
   "source": [
    "def generate_rand_eqn():\n",
    "    # Generate two random numbers & generate random equation\n",
    "    eqn = torch.randint(-1000000, 1000000, (2, ))\n",
    "    to_solve, answer = generate_eqn(eqn[0], eqn[1], split_ans=True)\n",
    "    return to_solve, answer"
   ]
  },
  {
   "cell_type": "code",
   "execution_count": 39,
   "metadata": {},
   "outputs": [],
   "source": [
    "def random_inference():\n",
    "    data = generate_context()\n",
    "    to_solve, answer = generate_rand_eqn()\n",
    "    # Append eqn to data and send to model\n",
    "    data = torch.tensor(data + encode(to_solve)).unsqueeze(0).to(device)\n",
    "    output = decode(m.generate(data)[0].tolist())\n",
    "    # Print results\n",
    "    print(\"Equation: {}\".format(output[output.rindex(stop_token, 0, -2)+1:output.rindex(\"=\")+1]))\n",
    "    print(\"Prediction: {}\".format(output[output.rindex(\"=\")+1:-1]))\n",
    "    print(\"Result: {}\".format(answer))"
   ]
  },
  {
   "cell_type": "code",
   "execution_count": 46,
   "metadata": {},
   "outputs": [
    {
     "name": "stdout",
     "output_type": "stream",
     "text": [
      "Equation: 483338*674665=\n",
      "Prediction: 324404400830\n",
      "Result: 326091231770\n"
     ]
    }
   ],
   "source": [
    "random_inference()"
   ]
  },
  {
   "attachments": {},
   "cell_type": "markdown",
   "metadata": {},
   "source": [
    "# Save the model"
   ]
  },
  {
   "cell_type": "code",
   "execution_count": 47,
   "metadata": {},
   "outputs": [],
   "source": [
    "import time\n",
    "torch.save(m.state_dict(), './models/calculator_{}.pt'.format(time.strftime(\"%Y-%m-%d-%H:%M\")))"
   ]
  }
 ],
 "metadata": {
  "kernelspec": {
   "display_name": "venv",
   "language": "python",
   "name": "python3"
  },
  "language_info": {
   "codemirror_mode": {
    "name": "ipython",
    "version": 3
   },
   "file_extension": ".py",
   "mimetype": "text/x-python",
   "name": "python",
   "nbconvert_exporter": "python",
   "pygments_lexer": "ipython3",
   "version": "3.8.10"
  },
  "orig_nbformat": 4,
  "vscode": {
   "interpreter": {
    "hash": "6a3748bdc53d2b264f1d590005ea209faf75446dd8b8076c51e6e8ce42172850"
   }
  }
 },
 "nbformat": 4,
 "nbformat_minor": 2
}
