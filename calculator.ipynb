{
 "cells": [
  {
   "attachments": {},
   "cell_type": "markdown",
   "metadata": {},
   "source": [
    "# Imports"
   ]
  },
  {
   "cell_type": "code",
   "execution_count": 2,
   "metadata": {},
   "outputs": [],
   "source": [
    "import torch\n",
    "import torch.nn as nn\n",
    "from torch.nn import functional as F"
   ]
  },
  {
   "attachments": {},
   "cell_type": "markdown",
   "metadata": {},
   "source": [
    "# Constants"
   ]
  },
  {
   "cell_type": "code",
   "execution_count": 85,
   "metadata": {},
   "outputs": [],
   "source": [
    "block_size = 256\n",
    "batch_size = 8"
   ]
  },
  {
   "attachments": {},
   "cell_type": "markdown",
   "metadata": {},
   "source": [
    "# Dataloader"
   ]
  },
  {
   "cell_type": "code",
   "execution_count": 96,
   "metadata": {},
   "outputs": [
    {
     "name": "stdout",
     "output_type": "stream",
     "text": [
      "Number of tokens: 15\n"
     ]
    }
   ],
   "source": [
    "chars = ['0', '1', '2', '3', '4', '5', '6', '7', '8', '9',' ', '+', '-', '.', '=']\n",
    "vocab_size = len(chars)\n",
    "print(\"Number of tokens: {}\".format(vocab_size))"
   ]
  },
  {
   "cell_type": "code",
   "execution_count": 97,
   "metadata": {},
   "outputs": [],
   "source": [
    "encoder = { ch:i for i,ch in enumerate(chars) }\n",
    "decoder = { i:ch for i,ch in enumerate(chars) }\n",
    "encode = lambda s: [encoder[c] for c in s]\n",
    "decode = lambda l: ''.join([decoder[i] for i in l])"
   ]
  },
  {
   "cell_type": "code",
   "execution_count": 115,
   "metadata": {},
   "outputs": [],
   "source": [
    "def get_batch():\n",
    "    numbers = torch.randn(batch_size, block_size, 2)\n",
    "    #probs = [[\"{} + {} = {}\".format(numbers[batch_no, ix, 0], numbers[batch_no, ix,1], numbers[batch_no, ix,0] + numbers[batch_no, ix,1]) for ix in range(block_size)] for batch_no in range(batch_size)]\n",
    "    x = [[\"{} + {}\".format(numbers[batch_no, ix, 0], numbers[batch_no, ix,1]) for ix in range(block_size)] for batch_no in range(batch_size)]\n",
    "    y = [[\"{}\".format(numbers[batch_no, ix,0] + numbers[batch_no, ix,1]) for ix in range(block_size)] for batch_no in range(batch_size)]\n",
    "    return x, y"
   ]
  },
  {
   "cell_type": "code",
   "execution_count": 116,
   "metadata": {},
   "outputs": [],
   "source": [
    "x = get_batch()"
   ]
  },
  {
   "cell_type": "code",
   "execution_count": 123,
   "metadata": {},
   "outputs": [
    {
     "data": {
      "text/plain": [
       "256"
      ]
     },
     "execution_count": 123,
     "metadata": {},
     "output_type": "execute_result"
    }
   ],
   "source": [
    "len(x[0][0])"
   ]
  },
  {
   "cell_type": "code",
   "execution_count": 117,
   "metadata": {},
   "outputs": [
    {
     "data": {
      "text/plain": [
       "8"
      ]
     },
     "execution_count": 117,
     "metadata": {},
     "output_type": "execute_result"
    }
   ],
   "source": [
    "len(x[0])"
   ]
  },
  {
   "cell_type": "code",
   "execution_count": 118,
   "metadata": {},
   "outputs": [
    {
     "data": {
      "text/plain": [
       "2"
      ]
     },
     "execution_count": 118,
     "metadata": {},
     "output_type": "execute_result"
    }
   ],
   "source": [
    "len(x)"
   ]
  },
  {
   "cell_type": "code",
   "execution_count": 81,
   "metadata": {},
   "outputs": [
    {
     "ename": "KeyError",
     "evalue": "'1.3316987752914429 + 1.155342936515808'",
     "output_type": "error",
     "traceback": [
      "\u001b[0;31m---------------------------------------------------------------------------\u001b[0m",
      "\u001b[0;31mKeyError\u001b[0m                                  Traceback (most recent call last)",
      "Cell \u001b[0;32mIn[81], line 1\u001b[0m\n\u001b[0;32m----> 1\u001b[0m encode(x)\n",
      "Cell \u001b[0;32mIn[78], line 3\u001b[0m, in \u001b[0;36m<lambda>\u001b[0;34m(s)\u001b[0m\n\u001b[1;32m      1\u001b[0m encoder \u001b[39m=\u001b[39m { ch:i \u001b[39mfor\u001b[39;00m i,ch \u001b[39min\u001b[39;00m \u001b[39menumerate\u001b[39m(chars) }\n\u001b[1;32m      2\u001b[0m decoder \u001b[39m=\u001b[39m { i:ch \u001b[39mfor\u001b[39;00m i,ch \u001b[39min\u001b[39;00m \u001b[39menumerate\u001b[39m(chars) }\n\u001b[0;32m----> 3\u001b[0m encode \u001b[39m=\u001b[39m \u001b[39mlambda\u001b[39;00m s: [encoder[c] \u001b[39mfor\u001b[39;00m c \u001b[39min\u001b[39;00m s]\n\u001b[1;32m      4\u001b[0m decode \u001b[39m=\u001b[39m \u001b[39mlambda\u001b[39;00m l: \u001b[39m'\u001b[39m\u001b[39m'\u001b[39m\u001b[39m.\u001b[39mjoin([decoder[i] \u001b[39mfor\u001b[39;00m i \u001b[39min\u001b[39;00m l])\n",
      "Cell \u001b[0;32mIn[78], line 3\u001b[0m, in \u001b[0;36m<listcomp>\u001b[0;34m(.0)\u001b[0m\n\u001b[1;32m      1\u001b[0m encoder \u001b[39m=\u001b[39m { ch:i \u001b[39mfor\u001b[39;00m i,ch \u001b[39min\u001b[39;00m \u001b[39menumerate\u001b[39m(chars) }\n\u001b[1;32m      2\u001b[0m decoder \u001b[39m=\u001b[39m { i:ch \u001b[39mfor\u001b[39;00m i,ch \u001b[39min\u001b[39;00m \u001b[39menumerate\u001b[39m(chars) }\n\u001b[0;32m----> 3\u001b[0m encode \u001b[39m=\u001b[39m \u001b[39mlambda\u001b[39;00m s: [encoder[c] \u001b[39mfor\u001b[39;00m c \u001b[39min\u001b[39;00m s]\n\u001b[1;32m      4\u001b[0m decode \u001b[39m=\u001b[39m \u001b[39mlambda\u001b[39;00m l: \u001b[39m'\u001b[39m\u001b[39m'\u001b[39m\u001b[39m.\u001b[39mjoin([decoder[i] \u001b[39mfor\u001b[39;00m i \u001b[39min\u001b[39;00m l])\n",
      "\u001b[0;31mKeyError\u001b[0m: '1.3316987752914429 + 1.155342936515808'"
     ]
    }
   ],
   "source": [
    "encode(x)"
   ]
  },
  {
   "cell_type": "code",
   "execution_count": null,
   "metadata": {},
   "outputs": [],
   "source": []
  }
 ],
 "metadata": {
  "kernelspec": {
   "display_name": "venv",
   "language": "python",
   "name": "python3"
  },
  "language_info": {
   "codemirror_mode": {
    "name": "ipython",
    "version": 3
   },
   "file_extension": ".py",
   "mimetype": "text/x-python",
   "name": "python",
   "nbconvert_exporter": "python",
   "pygments_lexer": "ipython3",
   "version": "3.10.6"
  },
  "orig_nbformat": 4,
  "vscode": {
   "interpreter": {
    "hash": "6a3748bdc53d2b264f1d590005ea209faf75446dd8b8076c51e6e8ce42172850"
   }
  }
 },
 "nbformat": 4,
 "nbformat_minor": 2
}
