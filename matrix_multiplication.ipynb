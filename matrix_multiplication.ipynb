{
 "cells": [
  {
   "cell_type": "code",
   "execution_count": 2,
   "metadata": {},
   "outputs": [],
   "source": [
    "import torch\n",
    "import torch.nn as nn\n",
    "from torch.nn import functional as F"
   ]
  },
  {
   "cell_type": "code",
   "execution_count": 5,
   "metadata": {},
   "outputs": [],
   "source": [
    "B = 2\n",
    "T = 4\n",
    "C = 8\n",
    "nh = 4\n",
    "dropout = 0.2\n",
    "x = torch.ones(B, T, C)"
   ]
  },
  {
   "attachments": {},
   "cell_type": "markdown",
   "metadata": {},
   "source": [
    "# Approach 1 - mine"
   ]
  },
  {
   "cell_type": "code",
   "execution_count": 21,
   "metadata": {},
   "outputs": [],
   "source": [
    "torch.manual_seed(42)\n",
    "lin_key = nn.Linear(C, C * nh, bias=False)\n",
    "lin_query = nn.Linear(C, C * nh, bias=False)\n",
    "lin_value = nn.Linear(C, C * nh, bias=False)"
   ]
  },
  {
   "cell_type": "code",
   "execution_count": 22,
   "metadata": {},
   "outputs": [
    {
     "data": {
      "text/plain": [
       "(torch.Size([2, 4, 32]), torch.Size([2, 4, 32]), torch.Size([2, 4, 32]))"
      ]
     },
     "execution_count": 22,
     "metadata": {},
     "output_type": "execute_result"
    }
   ],
   "source": [
    "k = lin_key(x)\n",
    "q = lin_query(x)\n",
    "v = lin_value(x)\n",
    "k.shape, q.shape, v.shape # (B, T, C * nh)"
   ]
  },
  {
   "attachments": {},
   "cell_type": "markdown",
   "metadata": {},
   "source": [
    "# Approach 2 - The correct one"
   ]
  },
  {
   "cell_type": "code",
   "execution_count": 24,
   "metadata": {},
   "outputs": [],
   "source": [
    "torch.manual_seed(42)\n",
    "lin_attn = nn.Linear(C, 3*C, bias=False)"
   ]
  },
  {
   "cell_type": "code",
   "execution_count": 25,
   "metadata": {},
   "outputs": [],
   "source": [
    "q, k, v = lin_attn(x).split(C, dim=2) # (B, T, C) @ (C, 3C) -> (B, T, 3C)\n",
    "k = k.view(B, T, nh, C // nh)\n",
    "q = q.view(B, T, nh, C // nh)\n",
    "v = v.view(B, T, nh, C // nh)"
   ]
  },
  {
   "cell_type": "code",
   "execution_count": 26,
   "metadata": {},
   "outputs": [
    {
     "data": {
      "text/plain": [
       "torch.Size([2, 4, 4, 2])"
      ]
     },
     "execution_count": 26,
     "metadata": {},
     "output_type": "execute_result"
    }
   ],
   "source": [
    "k.shape # (B, T, nh, hs)"
   ]
  },
  {
   "cell_type": "markdown",
   "metadata": {},
   "source": [
    "# Visualizing"
   ]
  },
  {
   "attachments": {},
   "cell_type": "markdown",
   "metadata": {},
   "source": [
    "Basic Matrix Multiplication:\n",
    "```\n",
    "(\n",
    "    a1, a2\n",
    "    b1, b2\n",
    ")\n",
    "@\n",
    "(\n",
    "    c1, c2\n",
    "    d1, d2\n",
    ")\n",
    "=\n",
    "(\n",
    "    a1c1 + a2d1, a1c2 + a2d2\n",
    "    b1c1 + b2d1, b1c2 + b2d2\n",
    ")\n",
    "```"
   ]
  },
  {
   "attachments": {},
   "cell_type": "markdown",
   "metadata": {},
   "source": [
    "Approach 2:\n",
    "```\n",
    "(\n",
    "    x1, x2\n",
    "    x3, x4\n",
    ")\n",
    "@\n",
    "(\n",
    "    l1, l2, l3, l4, l5, l6\n",
    "    l7, l8, l9, l10, l11, l12\n",
    ")\n",
    "=\n",
    "(\n",
    "    x1l1 + x2l7, x1l2 + x2l8, x1l3 + x2l9, x1l4 + x2l10, x1l5 + x2l11, x1l6 + x2l12\n",
    "    x3l1 + x4l7, x3l2 + x4l8, x3l3 + x4l9, x3l4 + x4l10, x3l5 + x4l11, x3l6 + x4l12\n",
    ")\n",
    "view - split in last dimension into 3 ->\n",
    "q = (\n",
    "    x1l1 + x2l7, x1l2 + x2l8,\n",
    "    x3l1 + x4l7, x3l2 + x4l8,\n",
    ")\n",
    "k = (\n",
    "    x1l3 + x2l9, x1l4 + x2l10,\n",
    "    x3l3 + x4l9, x3l4 + x4l10\n",
    ")\n",
    "v = (\n",
    "    x1l5 + x2l11, x1l6 + x2l12,\n",
    "    x3l5 + x4l11, x3l6 + x4l12\n",
    ")"
   ]
  },
  {
   "attachments": {},
   "cell_type": "markdown",
   "metadata": {},
   "source": [
    "Not going to write it out, but can see that this is equal to:\n",
    "```\n",
    "q = x @ ( l1, l2\n",
    "          l7, l8 )\n",
    "k = x @ ( l3, l4\n",
    "          l9, l10 )\n",
    "v = x @ ( l5, l6\n",
    "          l11, l12 )\n",
    "```"
   ]
  }
 ],
 "metadata": {
  "kernelspec": {
   "display_name": "venv",
   "language": "python",
   "name": "python3"
  },
  "language_info": {
   "codemirror_mode": {
    "name": "ipython",
    "version": 3
   },
   "file_extension": ".py",
   "mimetype": "text/x-python",
   "name": "python",
   "nbconvert_exporter": "python",
   "pygments_lexer": "ipython3",
   "version": "3.10.6"
  },
  "orig_nbformat": 4,
  "vscode": {
   "interpreter": {
    "hash": "6a3748bdc53d2b264f1d590005ea209faf75446dd8b8076c51e6e8ce42172850"
   }
  }
 },
 "nbformat": 4,
 "nbformat_minor": 2
}
